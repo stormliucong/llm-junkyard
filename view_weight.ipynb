{
 "cells": [
  {
   "cell_type": "code",
   "execution_count": 1,
   "id": "8cba7591",
   "metadata": {},
   "outputs": [
    {
     "name": "stdout",
     "output_type": "stream",
     "text": [
      "Vocabulary size: 27\n",
      "Start token ID: 28, End token ID: 29\n",
      "Using vocabulary size: 29 (including start and end tokens)\n",
      "Using device: mps\n",
      "Start token ID: 28, End token ID: 29\n",
      "Input sequence: ABC, Input IDs: tensor([[1, 2, 3, 0]], device='mps:0')\n",
      "output_ids: tensor([[28]], device='mps:0')\n",
      "output_ids: tensor([[28,  9]], device='mps:0')\n",
      "output_ids: tensor([[28,  9,  2]], device='mps:0')\n",
      "output_ids: tensor([[28,  9,  2,  1]], device='mps:0')\n",
      "Input sequence: ABC, Generated sequence: IBAJ\n"
     ]
    }
   ],
   "source": [
    "import torch\n",
    "from miniTransformer import Transformer\n",
    "from miniGPTDataset import SimpleLetterTokenizer\n",
    "\n",
    "batch_size = 128\n",
    "max_seq = 4\n",
    "d_model = 4\n",
    "d_ff = 4\n",
    "n_blocks = 1\n",
    "n_heads = 1\n",
    "drop_out_rate = 0.1\n",
    "learning_rate = 1e-3\n",
    "epochs = 10\n",
    "v_size = SimpleLetterTokenizer().n_vocab\n",
    "print(f\"Vocabulary size: {v_size}\")\n",
    "start_token_id = v_size + 1\n",
    "end_token_id = v_size + 2\n",
    "v_size = v_size + 2\n",
    "print(f\"Start token ID: {start_token_id}, End token ID: {end_token_id}\")\n",
    "print(f\"Using vocabulary size: {v_size} (including start and end tokens)\")\n",
    "\n",
    "checkpoint = torch.load('checkpoints/best_model.pth')  # Load the model checkpoint\n",
    "model = Transformer(v_size=v_size, max_seq=max_seq, d_model=d_model, drop_out_rate=drop_out_rate, d_ff=d_ff, n_blocks=n_blocks, n_heads=n_heads, pad_idx=0)\n",
    "model.load_state_dict(checkpoint['model_state_dict'])  # Load the model state dict\n",
    "device = torch.device(\"mps\" if torch.backends.mps.is_available() else \"cpu\")\n",
    "print(f\"Using device: {device}\")\n",
    "model = model.to(device)\n",
    "\n",
    "# test an example\n",
    "input_seq = \"ABC\"\n",
    "input_ids = SimpleLetterTokenizer().encode(input_seq)\n",
    "input_ids = input_ids + [0]\n",
    "print(f\"Start token ID: {start_token_id}, End token ID: {end_token_id}\")\n",
    "# convert to tensor and add batch dimension\n",
    "input_ids = torch.tensor(input_ids, dtype=torch.long).unsqueeze(0).to(device)\n",
    "print(f\"Input sequence: {input_seq}, Input IDs: {input_ids}\")\n",
    "output_token_ids = model.generate(\n",
    "    input_ids=input_ids,\n",
    "    max_length=max_seq,\n",
    "    start_token_id=start_token_id,\n",
    "    end_token_id=end_token_id\n",
    ")\n",
    "\n",
    "output_token_ids = output_token_ids[0].tolist()\n",
    "# remove start token\n",
    "output_token_ids = output_token_ids[1:]  # remove the start token\n",
    "# remove end token if it exists\n",
    "if end_token_id in output_token_ids:\n",
    "    output_token_ids = output_token_ids[:output_token_ids.index(end_token_id)]\n",
    "\n",
    "output_seq = SimpleLetterTokenizer().decode(output_token_ids)\n",
    "print(f\"Input sequence: {input_seq}, Generated sequence: {output_seq}\")\n"
   ]
  },
  {
   "cell_type": "code",
   "execution_count": 2,
   "id": "8ecd3717",
   "metadata": {},
   "outputs": [
    {
     "name": "stdout",
     "output_type": "stream",
     "text": [
      "Encoder outputs shape: torch.Size([1, 4, 4])\n",
      "Encoder outputs: tensor([[[ 1.1810,  1.4783, -2.4246, -0.0530],\n",
      "         [ 2.4247, -2.0914,  0.1005, -0.1978],\n",
      "         [-0.7326, -1.8711,  2.1021,  0.2646],\n",
      "         [-0.9289,  2.6003, -1.2676, -0.3874]]], device='mps:0',\n",
      "       grad_fn=<NativeLayerNormBackward0>)\n"
     ]
    },
    {
     "name": "stderr",
     "output_type": "stream",
     "text": [
      "/Users/cl3720/Desktop/personal_practice/.venv/lib/python3.11/site-packages/torch/_tensor_str.py:145: UserWarning: MPS: nonzero op is supported natively starting from macOS 14.0. Falling back on CPU. This may have performance implications. (Triggered internally at /Users/runner/work/pytorch/pytorch/pytorch/aten/src/ATen/native/mps/operations/Indexing.mm:404.)\n",
      "  nonzero_finite_vals = torch.masked_select(\n"
     ]
    }
   ],
   "source": [
    "src_mask = model._create_padding_mask(input_ids)\n",
    "encoder_outputs = model.encoder(input_ids, src_mask=src_mask)\n",
    "print(f\"Encoder outputs shape: {encoder_outputs.shape}\")  # b, max_seq, d_model\n",
    "print(f\"Encoder outputs: {encoder_outputs}\")"
   ]
  },
  {
   "cell_type": "code",
   "execution_count": 12,
   "id": "21cbbb11",
   "metadata": {},
   "outputs": [
    {
     "name": "stdout",
     "output_type": "stream",
     "text": [
      "Shape of output IDs: torch.Size([1, 1])\n",
      "Initial output IDs: tensor([[28]], device='mps:0')\n",
      "Shape of output IDs: torch.Size([1, 2])\n",
      "Updated output IDs: tensor([[28,  3]], device='mps:0')\n"
     ]
    }
   ],
   "source": [
    "# initialize output_ids with start_token_id\n",
    "output_ids = torch.full((input_ids.size(0), 1), fill_value=start_token_id, dtype=torch.long, device=input_ids.device)\n",
    "print(f\"Shape of output IDs: {output_ids.shape}\")  # should be (batch_size, 1)\n",
    "print(f\"Initial output IDs: {output_ids}\")\n",
    "output_ids = torch.cat([output_ids, torch.tensor([[3]], dtype=torch.long, device=input_ids.device)], dim=1)\n",
    "print(f\"Shape of output IDs: {output_ids.shape}\")  # should be (batch_size, 2)\n",
    "print(f\"Updated output IDs: {output_ids}\")"
   ]
  },
  {
   "cell_type": "code",
   "execution_count": 13,
   "id": "e4c36945",
   "metadata": {},
   "outputs": [
    {
     "name": "stdout",
     "output_type": "stream",
     "text": [
      "Target mask shape: torch.Size([1, 1, 2, 2])\n",
      "Target mask: tensor([[[[ True, False],\n",
      "          [ True,  True]]]], device='mps:0')\n"
     ]
    }
   ],
   "source": [
    "tgt_mask = model._create_causal_mask(output_ids.size(1)) # b, 1, s+1, s+1\n",
    "tgt_mask = tgt_mask.to(output_ids.device)\n",
    "print(f\"Target mask shape: {tgt_mask.shape}\")  # should be (batch_size, 1, seq_len, seq_len)\n",
    "print(f\"Target mask: {tgt_mask}\")"
   ]
  },
  {
   "cell_type": "code",
   "execution_count": 14,
   "id": "04d7f714",
   "metadata": {},
   "outputs": [
    {
     "name": "stdout",
     "output_type": "stream",
     "text": [
      "Decoder output shape: torch.Size([1, 2, 29])\n",
      "Decoder output: tensor([[[-3.5205,  3.8691,  2.2394, -3.8453, -1.0840,  6.2557,  1.2145,\n",
      "           6.2666,  1.6552,  6.5308,  3.8158,  4.5190, -9.8917, -9.0440,\n",
      "          -3.9611, -7.1893,  3.5974, -4.9453, -3.3011, -1.4426,  2.1608,\n",
      "           4.1235, -5.0371, -6.7411,  5.1051,  6.3331, -4.2807, -3.5562,\n",
      "          -3.2285],\n",
      "         [-6.7916,  5.2714,  6.2297,  3.3506, -6.1825, -0.8195,  5.9423,\n",
      "           2.3901, -5.6700,  0.4123,  5.4526,  4.3191, -5.3846, -4.6253,\n",
      "          -9.6467, -8.9116, -4.0615, -7.8830,  3.0376,  4.3956,  6.1333,\n",
      "           4.7061,  2.3845, -1.2127, -2.5649,  2.5135, -0.6261, -6.2159,\n",
      "          -5.9123]]], device='mps:0', grad_fn=<LinearBackward0>)\n",
      "last layer decoder self attention shape: torch.Size([1, 1, 2, 2])\n",
      "last layer decoder self attention: tensor([[[[1.0000, 0.0000],\n",
      "          [0.4825, 0.5175]]]], device='mps:0', grad_fn=<SoftmaxBackward0>)\n",
      "last layer decoder cross attention shape: torch.Size([1, 1, 2, 4])\n",
      "last layer decoder cross attention: tensor([[[[2.3072e-06, 1.0829e-01, 8.9170e-01, 0.0000e+00],\n",
      "          [2.5384e-01, 1.4124e-01, 6.0492e-01, 0.0000e+00]]]], device='mps:0',\n",
      "       grad_fn=<SoftmaxBackward0>)\n"
     ]
    }
   ],
   "source": [
    "decoder_output, decoder_self_attentions, decoder_cross_attentions = model.decoder(output_ids, encoder_outputs, src_mask, tgt_mask, return_attention=True)\n",
    "print(f\"Decoder output shape: {decoder_output.shape}\")  # should be (batch_size, seq_len, d_model)\n",
    "print(f\"Decoder output: {decoder_output}\")\n",
    "# print last layer of attentions\n",
    "print(f\"last layer decoder self attention shape: {decoder_self_attentions[-1].shape}\")  # should be (batch_size, n_heads, seq_len, seq_len)\n",
    "print(f\"last layer decoder self attention: {decoder_self_attentions[-1]}\")\n",
    "print(f\"last layer decoder cross attention shape: {decoder_cross_attentions[-1].shape}\")  # should be (batch_size, n_heads, seq_len, seq_len)\n",
    "print(f\"last layer decoder cross attention: {decoder_cross_attentions[-1]}\")\n"
   ]
  },
  {
   "cell_type": "code",
   "execution_count": null,
   "id": "2fb7ae52",
   "metadata": {},
   "outputs": [],
   "source": []
  }
 ],
 "metadata": {
  "kernelspec": {
   "display_name": ".venv",
   "language": "python",
   "name": "python3"
  },
  "language_info": {
   "codemirror_mode": {
    "name": "ipython",
    "version": 3
   },
   "file_extension": ".py",
   "mimetype": "text/x-python",
   "name": "python",
   "nbconvert_exporter": "python",
   "pygments_lexer": "ipython3",
   "version": "3.11.4"
  }
 },
 "nbformat": 4,
 "nbformat_minor": 5
}
