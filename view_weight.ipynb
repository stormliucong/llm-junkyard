{
 "cells": [
  {
   "cell_type": "code",
   "execution_count": null,
   "id": "8cba7591",
   "metadata": {},
   "outputs": [
    {
     "name": "stdout",
     "output_type": "stream",
     "text": [
      "Vocabulary size: 27\n",
      "Start token ID: 28, End token ID: 29\n",
      "Using vocabulary size: 29 (including start and end tokens)\n",
      "Using device: mps\n",
      "Start token ID: 28, End token ID: 29\n",
      "Input sequence: YAN, Input IDs: tensor([[25,  1, 14,  0]], device='mps:0')\n",
      "output_ids: tensor([[28]], device='mps:0')\n",
      "output_ids: tensor([[28,  8]], device='mps:0')\n",
      "output_ids: tensor([[28,  8, 11]], device='mps:0')\n",
      "output_ids: tensor([[28,  8, 11, 25]], device='mps:0')\n",
      "Input sequence: YAN, Generated sequence: HKYK\n"
     ]
    }
   ],
   "source": [
    "import torch\n",
    "from miniTransformer import Transformer\n",
    "from miniGPTDataset import SimpleLetterTokenizer\n",
    "\n",
    "batch_size = 128\n",
    "max_seq = 4\n",
    "d_model = 4\n",
    "d_ff = 4\n",
    "n_blocks = 1\n",
    "n_heads = 1\n",
    "drop_out_rate = 0.1\n",
    "learning_rate = 1e-3\n",
    "epochs = 10\n",
    "v_size = SimpleLetterTokenizer().n_vocab\n",
    "print(f\"Vocabulary size: {v_size}\")\n",
    "start_token_id = v_size + 1\n",
    "end_token_id = v_size + 2\n",
    "v_size = v_size + 2\n",
    "print(f\"Start token ID: {start_token_id}, End token ID: {end_token_id}\")\n",
    "print(f\"Using vocabulary size: {v_size} (including start and end tokens)\")\n",
    "\n",
    "checkpoint = torch.load('checkpoints/best_model.pth')  # Load the model checkpoint\n",
    "model = Transformer(v_size=v_size, max_seq=max_seq, d_model=d_model, drop_out_rate=drop_out_rate, d_ff=d_ff, n_blocks=n_blocks, n_heads=n_heads, pad_idx=0)\n",
    "model.load_state_dict(checkpoint['model_state_dict'])  # Load the model state dict\n",
    "device = torch.device(\"mps\" if torch.backends.mps.is_available() else \"cpu\")\n",
    "print(f\"Using device: {device}\")\n",
    "model = model.to(device)\n",
    "\n",
    "# test an example\n",
    "input_seq = \"WIL\"\n",
    "input_ids = SimpleLetterTokenizer().encode(input_seq)\n",
    "input_ids = input_ids + [0]\n",
    "print(f\"Start token ID: {start_token_id}, End token ID: {end_token_id}\")\n",
    "# convert to tensor and add batch dimension\n",
    "input_ids = torch.tensor(input_ids, dtype=torch.long).unsqueeze(0).to(device)\n",
    "print(f\"Input sequence: {input_seq}, Input IDs: {input_ids}\")\n",
    "output_token_ids = model.generate(\n",
    "    input_ids=input_ids,\n",
    "    max_length=max_seq,\n",
    "    start_token_id=start_token_id,\n",
    "    end_token_id=end_token_id\n",
    ")\n",
    "\n",
    "output_token_ids = output_token_ids[0].tolist()\n",
    "# remove start token\n",
    "output_token_ids = output_token_ids[1:]  # remove the start token\n",
    "# remove end token if it exists\n",
    "if end_token_id in output_token_ids:\n",
    "    output_token_ids = output_token_ids[:output_token_ids.index(end_token_id)]\n",
    "\n",
    "output_seq = SimpleLetterTokenizer().decode(output_token_ids)\n",
    "print(f\"Input sequence: {input_seq}, Generated sequence: {output_seq}\")\n"
   ]
  },
  {
   "cell_type": "code",
   "execution_count": null,
   "id": "8ecd3717",
   "metadata": {},
   "outputs": [],
   "source": []
  }
 ],
 "metadata": {
  "kernelspec": {
   "display_name": ".venv",
   "language": "python",
   "name": "python3"
  },
  "language_info": {
   "codemirror_mode": {
    "name": "ipython",
    "version": 3
   },
   "file_extension": ".py",
   "mimetype": "text/x-python",
   "name": "python",
   "nbconvert_exporter": "python",
   "pygments_lexer": "ipython3",
   "version": "3.11.4"
  }
 },
 "nbformat": 4,
 "nbformat_minor": 5
}
